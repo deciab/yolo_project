{
 "cells": [
  {
   "cell_type": "code",
   "execution_count": 17,
   "id": "b8490c22-8b47-4975-9a37-3866dd905a91",
   "metadata": {},
   "outputs": [],
   "source": [
    "import cv2"
   ]
  },
  {
   "cell_type": "code",
   "execution_count": 18,
   "id": "5ce97879-fd37-4009-ae2b-3f0299ec5055",
   "metadata": {},
   "outputs": [],
   "source": [
    "import numpy as np\n",
    "import os\n",
    "import yaml\n",
    "from yaml.loader import SafeLoader"
   ]
  },
  {
   "cell_type": "code",
   "execution_count": 19,
   "id": "c808b12c-2b6e-4a99-8cdf-dfb61c1a951a",
   "metadata": {},
   "outputs": [
    {
     "name": "stdout",
     "output_type": "stream",
     "text": [
      "['cat', 'dog']\n"
     ]
    }
   ],
   "source": [
    "#załadowanie danych z pliku data.yaml\n",
    "with open('data.yaml',mode='r') as f:\n",
    "    data_yaml = yaml.load(f,Loader=SafeLoader)\n",
    "\n",
    "labels = data_yaml['names']\n",
    "print(labels)"
   ]
  },
  {
   "cell_type": "code",
   "execution_count": 20,
   "id": "f9a06be0-38b0-4e76-bb6f-ef6b4c210a4c",
   "metadata": {},
   "outputs": [],
   "source": [
    "#załadowanie modelu yolo\n",
    "yolo = cv2.dnn.readNetFromONNX('./Model/weights/best.onnx')\n",
    "yolo.setPreferableBackend(cv2.dnn.DNN_BACKEND_OPENCV)\n",
    "yolo.setPreferableTarget(cv2.dnn.DNN_TARGET_CPU)"
   ]
  },
  {
   "cell_type": "code",
   "execution_count": 21,
   "id": "a1f05430-882c-47b3-808b-bf8bb1e6d111",
   "metadata": {},
   "outputs": [],
   "source": [
    "#załadowanie obrazu\n",
    "#wrzucać obraz w rozmiarze 640\n",
    "img = cv2.imread('./cat_dog_img.jpg')\n",
    "image = img.copy()\n",
    "row, col, d = image.shape\n",
    "\n",
    "#zmiana wymiarów obrazu do formy kwadratu (wypełnia tłem)\n",
    "max_rc = max(row,col)\n",
    "input_image = np.zeros((max_rc,max_rc,3),dtype=np.uint8)\n",
    "input_image[0:row,0:col] = image\n",
    "\n",
    "#konwersja kolorów i rozmiaru obrazu dla modelu yolo\n",
    "INPUT_WH_YOLO = 640\n",
    "blob = cv2.dnn.blobFromImage(input_image,1/255,(INPUT_WH_YOLO,INPUT_WH_YOLO),swapRB=True,crop=False)\n",
    "\n",
    "#przekazanie przygotowanego obrazu do detekcji yolo\n",
    "yolo.setInput(blob)\n",
    "\n",
    "#wynik detekcji\n",
    "preds = yolo.forward()\n"
   ]
  },
  {
   "cell_type": "code",
   "execution_count": 22,
   "id": "38f74e5e-a7d4-4979-bd1f-69a16d432310",
   "metadata": {},
   "outputs": [],
   "source": [
    "# filtrowanie predykcji z pewności > 0.4 i dopasowaniu klas > 0.25\n",
    "detections = preds[0]\n",
    "boxes = []\n",
    "confidences = []\n",
    "classes = []\n",
    "\n",
    "# przeliczenie współrzędnych z siatki yolo na oryginalne współrzędne obrazu\n",
    "image_w, image_h = input_image.shape[:2]\n",
    "x_factor = image_w/INPUT_WH_YOLO\n",
    "y_factor = image_h/INPUT_WH_YOLO\n",
    "\n",
    "for i in range(len(detections)):\n",
    "    row = detections[i]\n",
    "    confidence = row[4] \n",
    "    if confidence > 0.4:\n",
    "        class_score = row[5:].max() \n",
    "        class_id = row[5:].argmax() \n",
    "        \n",
    "        if class_score > 0.25:\n",
    "            cx, cy, w, h = row[0:4]\n",
    "            left = int((cx - 0.5*w)*x_factor)\n",
    "            top = int((cy - 0.5*h)*y_factor)\n",
    "            width = int(w*x_factor)\n",
    "            height = int(h*y_factor)\n",
    "            \n",
    "            box = np.array([left,top,width,height])\n",
    "\n",
    "            #zapisanie detekcji\n",
    "            confidences.append(confidence)\n",
    "            boxes.append(box)\n",
    "            classes.append(class_id)\n",
    "\n",
    "boxes_np = np.array(boxes).tolist()\n",
    "confidences_np = np.array(confidences).tolist()\n",
    "# usunięcie nakłądających się detekcji\n",
    "index = cv2.dnn.NMSBoxes(boxes_np,confidences_np,0.25,0.45).flatten()"
   ]
  },
  {
   "cell_type": "code",
   "execution_count": 23,
   "id": "eb4bcdb8-b437-4320-af6b-b4ae9c6ca5f5",
   "metadata": {},
   "outputs": [],
   "source": [
    "for ind in index:\n",
    "    # pobranie dancyh detekcji\n",
    "    x,y,w,h = boxes_np[ind]\n",
    "    bb_conf = int(confidences_np[ind]*100)\n",
    "    classes_id = classes[ind]\n",
    "    class_name = labels[classes_id]\n",
    "\n",
    "    #utworzenie etykiety tekstowej\n",
    "    text = f'{class_name}: {bb_conf}%'\n",
    "\n",
    "    # narysowanie prostokąta wokół obiektu\n",
    "    cv2.rectangle(image,(x,y),(x+w,y+h),(0,255,0),2)\n",
    "    cv2.rectangle(image,(x,y-30),(x+w,y),(255,255,255),-1)\n",
    "    # narysowanie tekstu z nazwą klasy\n",
    "    cv2.putText(image,text,(x,y-10),cv2.FONT_HERSHEY_PLAIN,0.7,(0,0,0),1)"
   ]
  },
  {
   "cell_type": "code",
   "execution_count": 24,
   "id": "8568a59a-a565-4573-999f-3284281ffb7f",
   "metadata": {},
   "outputs": [],
   "source": [
    "# otwarcie oryginalnego obrazu oraz obrazu z wynikiem detekcji\n",
    "cv2.imshow('original',img)\n",
    "cv2.imshow('yolo_prediction',image)\n",
    "cv2.waitKey(0)\n",
    "cv2.destroyAllWindows()"
   ]
  },
  {
   "cell_type": "code",
   "execution_count": null,
   "id": "9fd6437b-3d80-434d-900f-2ec09d9b1381",
   "metadata": {},
   "outputs": [],
   "source": []
  }
 ],
 "metadata": {
  "kernelspec": {
   "display_name": "Python 3 (ipykernel)",
   "language": "python",
   "name": "python3"
  },
  "language_info": {
   "codemirror_mode": {
    "name": "ipython",
    "version": 3
   },
   "file_extension": ".py",
   "mimetype": "text/x-python",
   "name": "python",
   "nbconvert_exporter": "python",
   "pygments_lexer": "ipython3",
   "version": "3.10.11"
  }
 },
 "nbformat": 4,
 "nbformat_minor": 5
}
