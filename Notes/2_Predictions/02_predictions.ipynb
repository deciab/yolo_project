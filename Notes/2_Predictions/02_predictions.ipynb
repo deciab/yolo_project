{
 "cells": [
  {
   "cell_type": "code",
   "execution_count": 1,
   "id": "c6eb1552-bbf8-416d-a2cd-0819bc9986de",
   "metadata": {},
   "outputs": [],
   "source": [
    "import cv2\n",
    "from yolo_predictions import YOLO_Pred"
   ]
  },
  {
   "cell_type": "code",
   "execution_count": 2,
   "id": "a33533c4-43b0-4e40-8ea1-6cfcacea8f74",
   "metadata": {},
   "outputs": [],
   "source": [
    "yolo = YOLO_Pred('./Model/weights/best.onnx','data.yaml')"
   ]
  },
  {
   "cell_type": "code",
   "execution_count": 3,
   "id": "767429ce-488c-45e1-ad39-31e7c1250708",
   "metadata": {},
   "outputs": [],
   "source": [
    "img = cv2.imread('./cat_dog_img.jpg')\n",
    "\n",
    "cv2.imshow('img',img)\n",
    "cv2.waitKey(0)\n",
    "cv2.destroyAllWindows()"
   ]
  },
  {
   "cell_type": "code",
   "execution_count": 4,
   "id": "39abc2e8-5d1a-4e0b-b8a0-c965246940f3",
   "metadata": {
    "scrolled": true
   },
   "outputs": [],
   "source": [
    "img_pred = yolo.predictions(img)\n",
    "\n",
    "cv2.imshow('prediction img',img_pred)\n",
    "cv2.waitKey(0)\n",
    "cv2.destroyAllWindows()"
   ]
  },
  {
   "cell_type": "code",
   "execution_count": null,
   "id": "83dae299-a38a-4959-acd3-e7f65572e73f",
   "metadata": {},
   "outputs": [],
   "source": [
    "cap = cv2.VideoCapture('video2.mp4')\n",
    "\n",
    "while True:\n",
    "    ret, frame = cap.read()\n",
    "    if ret == False:\n",
    "        print('unable to read video')\n",
    "        break\n",
    "\n",
    "    pred_image = yolo.predictions(frame)\n",
    "\n",
    "    cv2.imshow('YOLO',pred_image)\n",
    "    if cv2.waitKey(1) == 27:\n",
    "        break\n",
    "\n",
    "cv2.destroyAllWindows()\n",
    "cap.release()"
   ]
  },
  {
   "cell_type": "code",
   "execution_count": null,
   "id": "f567f869-0c00-499c-9ef8-64ea336b038c",
   "metadata": {},
   "outputs": [],
   "source": []
  },
  {
   "cell_type": "code",
   "execution_count": null,
   "id": "4ba28903-5fe4-412c-b00d-6fe1712389e6",
   "metadata": {},
   "outputs": [],
   "source": []
  }
 ],
 "metadata": {
  "kernelspec": {
   "display_name": "Python 3 (ipykernel)",
   "language": "python",
   "name": "python3"
  },
  "language_info": {
   "codemirror_mode": {
    "name": "ipython",
    "version": 3
   },
   "file_extension": ".py",
   "mimetype": "text/x-python",
   "name": "python",
   "nbconvert_exporter": "python",
   "pygments_lexer": "ipython3",
   "version": "3.10.11"
  }
 },
 "nbformat": 4,
 "nbformat_minor": 5
}
